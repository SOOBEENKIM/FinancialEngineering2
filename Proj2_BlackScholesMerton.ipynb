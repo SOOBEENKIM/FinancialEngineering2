{
 "cells": [
  {
   "cell_type": "markdown",
   "metadata": {},
   "source": [
    "PROJECT 2"
   ]
  },
  {
   "cell_type": "markdown",
   "metadata": {},
   "source": [
    "Black Scholes Merton Model"
   ]
  },
  {
   "cell_type": "markdown",
   "metadata": {},
   "source": [
    "Problem"
   ]
  },
  {
   "cell_type": "code",
   "execution_count": 1,
   "metadata": {},
   "outputs": [],
   "source": [
    "from math import exp,sqrt, pow, log\n",
    "import numpy as np\n",
    "import pandas as pd\n",
    "from scipy.stats import norm"
   ]
  },
  {
   "cell_type": "code",
   "execution_count": 2,
   "metadata": {},
   "outputs": [],
   "source": [
    "S_0 = 70\n",
    "K = 60\n",
    "T = 10\n",
    "r = 0.05\n",
    "sig = 0.2\n",
    "N = 10\n",
    "\n",
    "d1 = (log(S_0/K) + (r+(sig**2)/2)*T) / (sig*sqrt(T))\n",
    "d2 = d1 - sig*sqrt(T)\n",
    "\n",
    "Black_Euro_call = S_0 * norm.cdf(d1) - K*exp(-r*T)*norm.cdf(d2)\n",
    "Black_Euro_put = K*exp(-r*T)*norm.cdf(-d2) - S_0 *norm.cdf(-d1)"
   ]
  },
  {
   "cell_type": "code",
   "execution_count": 3,
   "metadata": {},
   "outputs": [
    {
     "name": "stdout",
     "output_type": "stream",
     "text": [
      "Black_Scholes_Merton European Call Option Price : 36.019967318064175\n"
     ]
    }
   ],
   "source": [
    "print(\"Black_Scholes_Merton European Call Option Price : {}\".format(Black_Euro_call))"
   ]
  },
  {
   "cell_type": "code",
   "execution_count": 4,
   "metadata": {},
   "outputs": [],
   "source": [
    "S_0 = 100\n",
    "K = 95\n",
    "T = 5\n",
    "r = 0.04\n",
    "sig = 0.1\n",
    "N = 10\n",
    "\n",
    "d1 = (log(S_0/K) + (r+(sig**2)/2)*T) / (sig*sqrt(T))\n",
    "d2 = d1 - sig*sqrt(T)\n",
    "\n",
    "Black_Euro_call = S_0 * norm.cdf(d1) - K*exp(-r*T)*norm.cdf(d2)\n",
    "Black_Euro_put = K*exp(-r*T)*norm.cdf(-d2) - S_0 *norm.cdf(-d1)"
   ]
  },
  {
   "cell_type": "code",
   "execution_count": 5,
   "metadata": {},
   "outputs": [
    {
     "name": "stdout",
     "output_type": "stream",
     "text": [
      "Black_Scholes_Merton European Put Option Price : 1.2853869584715554\n"
     ]
    }
   ],
   "source": [
    "print(\"Black_Scholes_Merton European Put Option Price : {}\".format(Black_Euro_put))"
   ]
  }
 ],
 "metadata": {
  "kernelspec": {
   "display_name": "Python 3",
   "language": "python",
   "name": "python3"
  },
  "language_info": {
   "codemirror_mode": {
    "name": "ipython",
    "version": 3
   },
   "file_extension": ".py",
   "mimetype": "text/x-python",
   "name": "python",
   "nbconvert_exporter": "python",
   "pygments_lexer": "ipython3",
   "version": "3.12.3"
  }
 },
 "nbformat": 4,
 "nbformat_minor": 2
}
